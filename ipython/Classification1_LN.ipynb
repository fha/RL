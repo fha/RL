{
 "metadata": {
  "name": ""
 },
 "nbformat": 3,
 "nbformat_minor": 0,
 "worksheets": [
  {
   "cells": [
    {
     "cell_type": "code",
     "collapsed": false,
     "input": [
      "###2\n",
      "from sklearn.cross_validation import cross_val_score\n",
      "from sklearn.datasets import make_blobs\n",
      "from sklearn.ensemble import RandomForestClassifier\n",
      "from sklearn.ensemble import ExtraTreesClassifier\n",
      "from sklearn.tree import DecisionTreeClassifier\n",
      "%matplotlib inline\n",
      "import matplotlib.pyplot as plt\n",
      "import numpy as np\n",
      "import util\n",
      "import starter as st\n",
      "import time\n",
      "from scipy.sparse import csr_matrix\n",
      "outputfile = \"mypredictions_classification_random_forrest_835.csv\"  # feel free to change this or take it as an argument\n",
      "\n",
      "from __future__ import division\n",
      "import matplotlib.pyplot as plt\n",
      "import numpy as np\n",
      "from sklearn.cross_validation import KFold\n",
      "from sklearn.ensemble import RandomForestClassifier\n",
      "from sklearn.feature_selection import SelectKBest\n",
      "from sklearn.feature_selection import chi2\n",
      "from sklearn.feature_selection import f_classif\n",
      "from sklearn.linear_model import LogisticRegression\n",
      "from sklearn.linear_model import RidgeClassifier\n",
      "from sklearn.linear_model import SGDClassifier\n",
      "from sklearn.metrics import accuracy_score\n",
      "from sklearn.multiclass import OneVsRestClassifier\n",
      "from sklearn.naive_bayes import BernoulliNB\n",
      "from sklearn.naive_bayes import GaussianNB\n",
      "from sklearn.naive_bayes import MultinomialNB\n",
      "from sklearn.svm import LinearSVC\n",
      "from sklearn.svm import SVC\n",
      "from sklearn.tree import DecisionTreeClassifier\n",
      "from sklearn.svm import NuSVC\n",
      "from sklearn.svm import SVR \n",
      "from sklearn.svm import NuSVR\n",
      "from sklearn.kernel_approximation import RBFSampler\n",
      "from sklearn.linear_model import SGDClassifier\n",
      "import sklearn as sk;"
     ],
     "language": "python",
     "metadata": {},
     "outputs": [],
     "prompt_number": 25
    },
    {
     "cell_type": "code",
     "collapsed": false,
     "input": [
      "st=reload(st)\n",
      "train_dir = \"train\"\n",
      "test_dir = \"test\"\n",
      "\n",
      "# TODO put the names of the feature functions you've defined above in this list\n",
      "\n",
      "ffs = [st.count_set_value,st.count_query_value,st.first_last_system_call_feats, st.system_call_count_feats,st.count_system_calls]\n",
      "#ffs=[st.count_system_calls]\n",
      "#ffs = [st.count_system_calls]\n",
      "# extract features\n",
      "print \"extracting training features...\"\n",
      "X_train,global_feat_dict,t_train,train_ids = st.extract_feats(ffs, train_dir)\n",
      "print \"done extracting training features\"\n",
      "print\n",
      "\n",
      "# TODO train here, and learn your classification parameters\n",
      "print \"learning...\"\n",
      "learned_W = np.random.random((len(global_feat_dict),len(util.malware_classes)))\n",
      "print \"done learning\"\n",
      "print\n",
      "\n",
      "\n",
      "print \"extracting test features...\"\n",
      "X_test,_,t_ignore,test_ids = st.extract_feats(ffs, test_dir, global_feat_dict=global_feat_dict)\n",
      "print \"done extracting test features\"\n",
      "print\n",
      "#X=X_train\n",
      "#X=X_train.todense()\n",
      "#y=t_train"
     ],
     "language": "python",
     "metadata": {},
     "outputs": [
      {
       "output_type": "stream",
       "stream": "stdout",
       "text": [
        "extracting training features...\n",
        "done extracting training features"
       ]
      },
      {
       "output_type": "stream",
       "stream": "stdout",
       "text": [
        "\n",
        "\n",
        "learning...\n",
        "done learning\n",
        "\n",
        "extracting test features...\n",
        "done extracting test features"
       ]
      },
      {
       "output_type": "stream",
       "stream": "stdout",
       "text": [
        "\n",
        "\n"
       ]
      }
     ],
     "prompt_number": 449
    },
    {
     "cell_type": "code",
     "collapsed": false,
     "input": [
      "X_train"
     ],
     "language": "python",
     "metadata": {},
     "outputs": [
      {
       "metadata": {},
       "output_type": "pyout",
       "prompt_number": 391,
       "text": [
        "<3086x5758 sparse matrix of type '<type 'numpy.int64'>'\n",
        "\twith 318107 stored elements in Compressed Sparse Row format>"
       ]
      }
     ],
     "prompt_number": 391
    },
    {
     "cell_type": "code",
     "collapsed": false,
     "input": [
      "print(__doc__)\n",
      "\n",
      "import numpy as np\n",
      "\n",
      "from time import time\n",
      "from operator import itemgetter\n",
      "from scipy.stats import randint as sp_randint\n",
      "\n",
      "from sklearn.grid_search import GridSearchCV, RandomizedSearchCV\n",
      "from sklearn.datasets import load_digits\n",
      "from sklearn.ensemble import RandomForestClassifier\n",
      "\n",
      "# get some data\n",
      "iris = load_digits()\n",
      "\n",
      "# build a classifier\n",
      "clf = RandomForestClassifier(n_estimators=100)\n",
      "\n",
      "\n",
      "# Utility function to report best scores\n",
      "def report(grid_scores, n_top=3):\n",
      "    top_scores = sorted(grid_scores, key=itemgetter(1), reverse=True)[:n_top]\n",
      "    for i, score in enumerate(top_scores):\n",
      "        print(\"Model with rank: {0}\".format(i + 1))\n",
      "        print(\"Mean validation score: {0:.3f} (std: {1:.3f})\".format(\n",
      "              score.mean_validation_score,\n",
      "              np.std(score.cv_validation_scores)))\n",
      "        print(\"Parameters: {0}\".format(score.parameters))\n",
      "        print(\"\")\n",
      "\n",
      "\n",
      "        \n",
      "# specify parameters and distributions to sample from\n",
      "param_dist = {\"max_depth\": [10, None],\n",
      "              \"max_features\": sp_randint(40, 75),\n",
      "              \"min_samples_split\": sp_randint(1, 15),\n",
      "              \"min_samples_leaf\": sp_randint(1, 15),\n",
      "              \"bootstrap\": [True, False],\n",
      "              \"criterion\": [\"gini\", \"entropy\"]}\n",
      "\n",
      "# run randomized search\n",
      "n_iter_search = 10\n",
      "random_search = RandomizedSearchCV(clf, param_distributions=param_dist,\n",
      "                                   n_iter=n_iter_search)\n",
      "\n",
      "start = time()\n",
      "random_search.fit(X, y)\n",
      "print(\"RandomizedSearchCV took %.2f seconds for %d candidates\"\n",
      "      \" parameter settings.\" % ((time() - start), n_iter_search))\n",
      "report(random_search.grid_scores_)\n"
     ],
     "language": "python",
     "metadata": {},
     "outputs": [
      {
       "output_type": "stream",
       "stream": "stdout",
       "text": [
        "Automatically created module for IPython interactive environment\n",
        "RandomizedSearchCV took 65.25 seconds for 10 candidates parameter settings."
       ]
      },
      {
       "output_type": "stream",
       "stream": "stdout",
       "text": [
        "\n",
        "Model with rank: 1\n",
        "Mean validation score: 0.881 (std: 0.009)\n",
        "Parameters: {'bootstrap': False, 'min_samples_leaf': 3, 'min_samples_split': 9, 'criterion': 'entropy', 'max_features': 63, 'max_depth': 10}\n",
        "\n",
        "Model with rank: 2\n",
        "Mean validation score: 0.876 (std: 0.007)\n",
        "Parameters: {'bootstrap': False, 'min_samples_leaf': 5, 'min_samples_split': 1, 'criterion': 'entropy', 'max_features': 46, 'max_depth': None}\n",
        "\n",
        "Model with rank: 3\n",
        "Mean validation score: 0.873 (std: 0.006)\n",
        "Parameters: {'bootstrap': False, 'min_samples_leaf': 6, 'min_samples_split': 8, 'criterion': 'entropy', 'max_features': 70, 'max_depth': 10}\n",
        "\n"
       ]
      }
     ],
     "prompt_number": 3
    },
    {
     "cell_type": "code",
     "collapsed": false,
     "input": [
      "\n",
      "# use a full grid over all parameters\n",
      "param_grid = {\"max_depth\": [1,2,3,4,5,6,7,8,9,10, None],\n",
      "              \"max_features\": [60,65,70,75,80],\n",
      "              \"min_samples_split\": [1,2, 3,4,5,6,7,8,9, 10],\n",
      "              \"min_samples_leaf\": [1,2, 3,4,5,6,7,8,9, 10],\n",
      "              \"bootstrap\": [True, False],\n",
      "              \"criterion\": [\"gini\", \"entropy\"]}\n",
      "\n",
      "# run grid search\n",
      "grid_search = GridSearchCV(clf, param_grid=param_grid)\n",
      "start = time()\n",
      "grid_search.fit(X, y)\n",
      "\n",
      "print(\"GridSearchCV took %.2f seconds for %d candidate parameter settings.\"\n",
      "      % (time() - start, len(grid_search.grid_scores_)))\n",
      "report(grid_search.grid_scores_)"
     ],
     "language": "python",
     "metadata": {},
     "outputs": []
    },
    {
     "cell_type": "heading",
     "level": 2,
     "metadata": {},
     "source": [
      "TESTING"
     ]
    },
    {
     "cell_type": "code",
     "collapsed": false,
     "input": [
      "outputfile = \"mypredictions_classification_random_forrest_835.csv\"  # feel free to change this or take it as an argument\n",
      "\n",
      "from __future__ import division\n",
      "import matplotlib.pyplot as plt\n",
      "import numpy as np\n",
      "from sklearn.cross_validation import KFold\n",
      "from sklearn.ensemble import RandomForestClassifier\n",
      "from sklearn.feature_selection import SelectKBest\n",
      "from sklearn.feature_selection import chi2\n",
      "from sklearn.feature_selection import f_classif\n",
      "from sklearn.linear_model import LogisticRegression\n",
      "from sklearn.linear_model import RidgeClassifier\n",
      "from sklearn.linear_model import SGDClassifier\n",
      "from sklearn.metrics import accuracy_score\n",
      "from sklearn.multiclass import OneVsRestClassifier\n",
      "from sklearn.naive_bayes import BernoulliNB\n",
      "from sklearn.naive_bayes import GaussianNB\n",
      "from sklearn.naive_bayes import MultinomialNB\n",
      "from sklearn.svm import LinearSVC\n",
      "from sklearn.svm import SVC\n",
      "from sklearn.tree import DecisionTreeClassifier\n",
      "from sklearn.svm import NuSVC\n",
      "from sklearn.svm import SVR \n",
      "from sklearn.svm import NuSVR\n",
      "from sklearn.kernel_approximation import RBFSampler\n",
      "from sklearn.linear_model import SGDClassifier\n",
      "import sklearn as sk;\n",
      "\n",
      "\n",
      "N_TRAIN_ROWS = 3087\n",
      "N_FEATURES = 133\n",
      "N_FOLDS = 10\n",
      "\n",
      "    \n",
      "    \n",
      "\n",
      "def evaluate(X, y, nfolds, clf, nfeats, clfname, scoreFunc,fahad_x_test):\n",
      "  kfold = KFold(X.shape[0], n_folds=nfolds)\n",
      "  acc = 0\n",
      "  i = 0\n",
      "  print(\"%s (#-features=%d)...\" % (clfname, nfeats))\n",
      "  for train, test in kfold:\n",
      "    i += 1\n",
      "    Xtrain, Xtest, ytrain, ytest = X[test], X[train], y[test], y[train]\n",
      "    clf.fit(Xtrain, ytrain)\n",
      "    ypred = clf.predict(Xtest)\n",
      "    score = accuracy_score(ytest, ypred)\n",
      "    print \"  Fold #%d, accuracy=%f\" % (i, score)\n",
      "    acc += score\n",
      "  acc /= nfolds\n",
      "  print \"## %s (#-features=%d) accuracy=%f\" % (clfname, nfeats, acc)\n",
      "        \n",
      "  return acc\n",
      "\n",
      "def plot(accuracies, xvals, legends):\n",
      "  fig = plt.figure()\n",
      "  ax = fig.add_subplot(111)\n",
      "  cm = [color + marker\n",
      "    for color in [\"b\", \"g\", \"r\", \"c\", \"m\", \"y\", \"b\"]\n",
      "    for marker in [\"o\", \"D\"]]\n",
      "  for i in range(0, accuracies.shape[0]):\n",
      "    ax.plot(xvals, accuracies[i, :], color=cm[i][0], \n",
      "      marker=cm[i][1], label=legends[i])\n",
      "  plt.xlabel(\"#-Features\")\n",
      "  plt.ylabel(\"Accuracy\")\n",
      "  plt.title(\"Accuracy vs #-Features for different classifiers\")\n",
      "  ax.set_xscale(\"log\")\n",
      "  box = ax.get_position()\n",
      "  ax.set_position([box.x0, box.y0 + box.height * 0.3,\n",
      "    box.width, box.height * 0.7])\n",
      "  ax.legend(loc=\"upper center\", bbox_to_anchor=(0.5, -0.15),\n",
      "    fancybox=True, shadow=True, ncol=3)\n",
      "  plt.show()\n",
      "  \n",
      "\n",
      "\n"
     ],
     "language": "python",
     "metadata": {},
     "outputs": [],
     "prompt_number": 9
    },
    {
     "cell_type": "code",
     "collapsed": false,
     "input": [
      "nFeatures = np.array([70])\n",
      "X=X_train.todense();\n",
      "X=np.concatenate((X,np.power(X,2)),axis=1);\n",
      "#X=np.concatenate((X,np.power(X,3)),axis=1);\n",
      "y=t_train;\n",
      "fahad_x_test=X_test.todense();\n",
      "fahad_x_test=np.concatenate((fahad_x_test,np.power(fahad_x_test,2)),axis=1);\n",
      "#fahad_x_test=np.concatenate((fahad_x_test,np.power(fahad_x_test,3)),axis=1);\n",
      "\n",
      "C=1\n",
      "clfs = [\n",
      "sk.ensemble.GradientBoostingClassifier(n_estimators=300)\n",
      "#RandomForestClassifier(n_estimators=300, max_depth=None, min_samples_split=2, random_state=0)\n",
      "#RandomForestClassifier(n_estimators=300,bootstrap= True, min_samples_leaf= 2, min_samples_split= 6, criterion= 'gini', max_features= 47, max_depth= None)\n",
      "#RandomForestClassifier(n_estimators=1000, min_samples_split=10, random_state=0)\n",
      "#SVC(kernel='linear', C=C,cache_size=1000),\n",
      "#SVC(kernel='rbf', gamma=0.7, C=C),\n",
      "#SVC(kernel='poly', degree=3, C=C)\n",
      "#LogisticRegression(),\n",
      "#SGDClassifier(),\n",
      "#BernoulliNB(),\n",
      "#MultinomialNB(),\n",
      "#GaussianNB(),\n",
      "#DecisionTreeClassifier(),\n",
      "#RandomForestClassifier(n_estimators=100)\n",
      "#OneVsRestClassifier(LinearSVC(random_state=0)),\n",
      "#OneVsRestClassifier(LogisticRegression()),\n",
      "#OneVsRestClassifier(SGDClassifier()),\n",
      "#OneVsRestClassifier(RidgeClassifier()),\n",
      "]\n",
      "\n",
      "clfnames = map(lambda x: type(x).__name__\n",
      "if type(x).__name__ != 'OneVsRestClassifier'\n",
      "else type(x.estimator).__name__, clfs)\n",
      "\n",
      "scoreFuncs = [chi2, f_classif]\n",
      "accuracies = np.zeros((len(clfs), len(nFeatures), len(scoreFuncs)))\n",
      "\n",
      "for k in range(0, len(scoreFuncs)):\n",
      "    Xtrunc = X.copy()\n",
      "    for j in range(0, len(nFeatures)):\n",
      "      if nFeatures[j] != N_FEATURES:\n",
      "        #kernel1\n",
      "        kk = SelectKBest(score_func=scoreFuncs[k], k=nFeatures[j])\n",
      "        #kk = SelectKBest(score_func=scoreFuncs[1], k=70)\n",
      "        \n",
      "        #kernel2\n",
      "        #kk = RBFSampler(gamma=1, random_state=1)\n",
      "        \n",
      "        #kernel3\n",
      "        #kkk=sk.kernel_approximation.AdditiveChi2Sampler(sample_steps=1)\n",
      "        \n",
      "        Xtrunc= kk.fit_transform(X,y)\n",
      "        #X_trunc=kkk.fit_transform(Xtrunc,y)\n",
      "        fahad_x_test_trunc=kk.transform(fahad_x_test)\n",
      "        #fahad_x_test_trunc=kkk.fit_transform(fahad_x_test_trunc)        \n",
      "        \n",
      "        print np.shape(fahad_x_test_trunc)\n",
      "      for i in range(0, len(clfs)):\n",
      "        accuracies[i, j, k] = evaluate(Xtrunc, y, N_FOLDS, clfs[i],\n",
      "          nFeatures[j], clfnames[i], scoreFuncs[k],fahad_x_test_trunc)\n",
      "\n",
      "    # print out accuracy matrix\n",
      "    for k in range(0, len(scoreFuncs)):\n",
      "        for i in range(0, len(clfs)):\n",
      "          print \"%22s \" % clfnames[i],\n",
      "          for j in range(0, accuracies.shape[1]):\n",
      "            print \"%5.3f\" % accuracies[i, j, k],\n",
      "          print\n",
      "        plot(accuracies[:, :, k], nFeatures, clfnames)"
     ],
     "language": "python",
     "metadata": {},
     "outputs": [
      {
       "output_type": "stream",
       "stream": "stdout",
       "text": [
        "(3724, 70)\n",
        "GradientBoostingClassifier (#-features=70)...\n",
        "  Fold #1, accuracy=0.805527"
       ]
      },
      {
       "output_type": "stream",
       "stream": "stdout",
       "text": [
        "\n",
        "  Fold #2, accuracy=0.805527"
       ]
      },
      {
       "output_type": "stream",
       "stream": "stdout",
       "text": [
        "\n",
        "  Fold #3, accuracy=0.800068"
       ]
      },
      {
       "output_type": "stream",
       "stream": "stdout",
       "text": [
        "\n",
        "  Fold #4, accuracy=0.803480"
       ]
      },
      {
       "output_type": "stream",
       "stream": "stdout",
       "text": [
        "\n",
        "  Fold #5, accuracy=0.812351"
       ]
      },
      {
       "output_type": "stream",
       "stream": "stdout",
       "text": [
        "\n",
        "  Fold #6, accuracy=0.814057"
       ]
      },
      {
       "output_type": "stream",
       "stream": "stdout",
       "text": [
        "\n",
        "  Fold #7, accuracy=0.796044"
       ]
      },
      {
       "output_type": "stream",
       "stream": "stdout",
       "text": [
        "\n",
        "  Fold #8, accuracy=0.806958"
       ]
      },
      {
       "ename": "KeyboardInterrupt",
       "evalue": "",
       "output_type": "pyerr",
       "traceback": [
        "\u001b[1;31m---------------------------------------------------------------------------\u001b[0m\n\u001b[1;31mKeyboardInterrupt\u001b[0m                         Traceback (most recent call last)",
        "\u001b[1;32m<ipython-input-55-aa501f2d6d24>\u001b[0m in \u001b[0;36m<module>\u001b[1;34m()\u001b[0m\n\u001b[0;32m     59\u001b[0m       \u001b[1;32mfor\u001b[0m \u001b[0mi\u001b[0m \u001b[1;32min\u001b[0m \u001b[0mrange\u001b[0m\u001b[1;33m(\u001b[0m\u001b[1;36m0\u001b[0m\u001b[1;33m,\u001b[0m \u001b[0mlen\u001b[0m\u001b[1;33m(\u001b[0m\u001b[0mclfs\u001b[0m\u001b[1;33m)\u001b[0m\u001b[1;33m)\u001b[0m\u001b[1;33m:\u001b[0m\u001b[1;33m\u001b[0m\u001b[0m\n\u001b[0;32m     60\u001b[0m         accuracies[i, j, k] = evaluate(Xtrunc, y, N_FOLDS, clfs[i],\n\u001b[1;32m---> 61\u001b[1;33m           nFeatures[j], clfnames[i], scoreFuncs[k],fahad_x_test_trunc)\n\u001b[0m\u001b[0;32m     62\u001b[0m \u001b[1;33m\u001b[0m\u001b[0m\n\u001b[0;32m     63\u001b[0m     \u001b[1;31m# print out accuracy matrix\u001b[0m\u001b[1;33m\u001b[0m\u001b[1;33m\u001b[0m\u001b[0m\n",
        "\u001b[1;32m<ipython-input-9-bef955288774>\u001b[0m in \u001b[0;36mevaluate\u001b[1;34m(X, y, nfolds, clf, nfeats, clfname, scoreFunc, fahad_x_test)\u001b[0m\n\u001b[0;32m     43\u001b[0m     \u001b[0mi\u001b[0m \u001b[1;33m+=\u001b[0m \u001b[1;36m1\u001b[0m\u001b[1;33m\u001b[0m\u001b[0m\n\u001b[0;32m     44\u001b[0m     \u001b[0mXtrain\u001b[0m\u001b[1;33m,\u001b[0m \u001b[0mXtest\u001b[0m\u001b[1;33m,\u001b[0m \u001b[0mytrain\u001b[0m\u001b[1;33m,\u001b[0m \u001b[0mytest\u001b[0m \u001b[1;33m=\u001b[0m \u001b[0mX\u001b[0m\u001b[1;33m[\u001b[0m\u001b[0mtest\u001b[0m\u001b[1;33m]\u001b[0m\u001b[1;33m,\u001b[0m \u001b[0mX\u001b[0m\u001b[1;33m[\u001b[0m\u001b[0mtrain\u001b[0m\u001b[1;33m]\u001b[0m\u001b[1;33m,\u001b[0m \u001b[0my\u001b[0m\u001b[1;33m[\u001b[0m\u001b[0mtest\u001b[0m\u001b[1;33m]\u001b[0m\u001b[1;33m,\u001b[0m \u001b[0my\u001b[0m\u001b[1;33m[\u001b[0m\u001b[0mtrain\u001b[0m\u001b[1;33m]\u001b[0m\u001b[1;33m\u001b[0m\u001b[0m\n\u001b[1;32m---> 45\u001b[1;33m     \u001b[0mclf\u001b[0m\u001b[1;33m.\u001b[0m\u001b[0mfit\u001b[0m\u001b[1;33m(\u001b[0m\u001b[0mXtrain\u001b[0m\u001b[1;33m,\u001b[0m \u001b[0mytrain\u001b[0m\u001b[1;33m)\u001b[0m\u001b[1;33m\u001b[0m\u001b[0m\n\u001b[0m\u001b[0;32m     46\u001b[0m     \u001b[0mypred\u001b[0m \u001b[1;33m=\u001b[0m \u001b[0mclf\u001b[0m\u001b[1;33m.\u001b[0m\u001b[0mpredict\u001b[0m\u001b[1;33m(\u001b[0m\u001b[0mXtest\u001b[0m\u001b[1;33m)\u001b[0m\u001b[1;33m\u001b[0m\u001b[0m\n\u001b[0;32m     47\u001b[0m     \u001b[0mscore\u001b[0m \u001b[1;33m=\u001b[0m \u001b[0maccuracy_score\u001b[0m\u001b[1;33m(\u001b[0m\u001b[0mytest\u001b[0m\u001b[1;33m,\u001b[0m \u001b[0mypred\u001b[0m\u001b[1;33m)\u001b[0m\u001b[1;33m\u001b[0m\u001b[0m\n",
        "\u001b[1;32m/home/f/anaconda/lib/python2.7/site-packages/sklearn/ensemble/gradient_boosting.pyc\u001b[0m in \u001b[0;36mfit\u001b[1;34m(self, X, y)\u001b[0m\n\u001b[0;32m    888\u001b[0m         \u001b[0mself\u001b[0m\u001b[1;33m.\u001b[0m\u001b[0mn_classes_\u001b[0m \u001b[1;33m=\u001b[0m \u001b[0mlen\u001b[0m\u001b[1;33m(\u001b[0m\u001b[0mself\u001b[0m\u001b[1;33m.\u001b[0m\u001b[0mclasses_\u001b[0m\u001b[1;33m)\u001b[0m\u001b[1;33m\u001b[0m\u001b[0m\n\u001b[0;32m    889\u001b[0m \u001b[1;33m\u001b[0m\u001b[0m\n\u001b[1;32m--> 890\u001b[1;33m         \u001b[1;32mreturn\u001b[0m \u001b[0msuper\u001b[0m\u001b[1;33m(\u001b[0m\u001b[0mGradientBoostingClassifier\u001b[0m\u001b[1;33m,\u001b[0m \u001b[0mself\u001b[0m\u001b[1;33m)\u001b[0m\u001b[1;33m.\u001b[0m\u001b[0mfit\u001b[0m\u001b[1;33m(\u001b[0m\u001b[0mX\u001b[0m\u001b[1;33m,\u001b[0m \u001b[0my\u001b[0m\u001b[1;33m)\u001b[0m\u001b[1;33m\u001b[0m\u001b[0m\n\u001b[0m\u001b[0;32m    891\u001b[0m \u001b[1;33m\u001b[0m\u001b[0m\n\u001b[0;32m    892\u001b[0m     \u001b[1;32mdef\u001b[0m \u001b[0m_score_to_proba\u001b[0m\u001b[1;33m(\u001b[0m\u001b[0mself\u001b[0m\u001b[1;33m,\u001b[0m \u001b[0mscore\u001b[0m\u001b[1;33m)\u001b[0m\u001b[1;33m:\u001b[0m\u001b[1;33m\u001b[0m\u001b[0m\n",
        "\u001b[1;32m/home/f/anaconda/lib/python2.7/site-packages/sklearn/ensemble/gradient_boosting.pyc\u001b[0m in \u001b[0;36mfit\u001b[1;34m(self, X, y)\u001b[0m\n\u001b[0;32m    611\u001b[0m             \u001b[1;31m# fit next stage of trees\u001b[0m\u001b[1;33m\u001b[0m\u001b[1;33m\u001b[0m\u001b[0m\n\u001b[0;32m    612\u001b[0m             y_pred = self._fit_stage(i, X, y, y_pred, sample_mask,\n\u001b[1;32m--> 613\u001b[1;33m                                      random_state)\n\u001b[0m\u001b[0;32m    614\u001b[0m \u001b[1;33m\u001b[0m\u001b[0m\n\u001b[0;32m    615\u001b[0m             \u001b[1;31m# track deviance (= loss)\u001b[0m\u001b[1;33m\u001b[0m\u001b[1;33m\u001b[0m\u001b[0m\n",
        "\u001b[1;32m/home/f/anaconda/lib/python2.7/site-packages/sklearn/ensemble/gradient_boosting.pyc\u001b[0m in \u001b[0;36m_fit_stage\u001b[1;34m(self, i, X, y, y_pred, sample_mask, random_state)\u001b[0m\n\u001b[0;32m    484\u001b[0m             \u001b[1;31m# update tree leaves\u001b[0m\u001b[1;33m\u001b[0m\u001b[1;33m\u001b[0m\u001b[0m\n\u001b[0;32m    485\u001b[0m             loss.update_terminal_regions(tree.tree_, X, y, residual, y_pred,\n\u001b[1;32m--> 486\u001b[1;33m                                          sample_mask, self.learning_rate, k=k)\n\u001b[0m\u001b[0;32m    487\u001b[0m \u001b[1;33m\u001b[0m\u001b[0m\n\u001b[0;32m    488\u001b[0m             \u001b[1;31m# add tree to ensemble\u001b[0m\u001b[1;33m\u001b[0m\u001b[1;33m\u001b[0m\u001b[0m\n",
        "\u001b[1;32m/home/f/anaconda/lib/python2.7/site-packages/sklearn/ensemble/gradient_boosting.pyc\u001b[0m in \u001b[0;36mupdate_terminal_regions\u001b[1;34m(self, tree, X, y, residual, y_pred, sample_mask, learning_rate, k)\u001b[0m\n\u001b[0;32m    170\u001b[0m             self._update_terminal_region(tree, masked_terminal_regions,\n\u001b[0;32m    171\u001b[0m                                          \u001b[0mleaf\u001b[0m\u001b[1;33m,\u001b[0m \u001b[0mX\u001b[0m\u001b[1;33m,\u001b[0m \u001b[0my\u001b[0m\u001b[1;33m,\u001b[0m \u001b[0mresidual\u001b[0m\u001b[1;33m,\u001b[0m\u001b[1;33m\u001b[0m\u001b[0m\n\u001b[1;32m--> 172\u001b[1;33m                                          y_pred[:, k])\n\u001b[0m\u001b[0;32m    173\u001b[0m \u001b[1;33m\u001b[0m\u001b[0m\n\u001b[0;32m    174\u001b[0m         \u001b[1;31m# update predictions (both in-bag and out-of-bag)\u001b[0m\u001b[1;33m\u001b[0m\u001b[1;33m\u001b[0m\u001b[0m\n",
        "\u001b[1;32m/home/f/anaconda/lib/python2.7/site-packages/sklearn/ensemble/gradient_boosting.pyc\u001b[0m in \u001b[0;36m_update_terminal_region\u001b[1;34m(self, tree, terminal_regions, leaf, X, y, residual, pred)\u001b[0m\n\u001b[0;32m    415\u001b[0m         \u001b[0mnumerator\u001b[0m \u001b[1;33m*=\u001b[0m \u001b[1;33m(\u001b[0m\u001b[0mself\u001b[0m\u001b[1;33m.\u001b[0m\u001b[0mK\u001b[0m \u001b[1;33m-\u001b[0m \u001b[1;36m1\u001b[0m\u001b[1;33m)\u001b[0m \u001b[1;33m/\u001b[0m \u001b[0mself\u001b[0m\u001b[1;33m.\u001b[0m\u001b[0mK\u001b[0m\u001b[1;33m\u001b[0m\u001b[0m\n\u001b[0;32m    416\u001b[0m \u001b[1;33m\u001b[0m\u001b[0m\n\u001b[1;32m--> 417\u001b[1;33m         \u001b[0mdenominator\u001b[0m \u001b[1;33m=\u001b[0m \u001b[0mnp\u001b[0m\u001b[1;33m.\u001b[0m\u001b[0msum\u001b[0m\u001b[1;33m(\u001b[0m\u001b[1;33m(\u001b[0m\u001b[0my\u001b[0m \u001b[1;33m-\u001b[0m \u001b[0mresidual\u001b[0m\u001b[1;33m)\u001b[0m \u001b[1;33m*\u001b[0m \u001b[1;33m(\u001b[0m\u001b[1;36m1.0\u001b[0m \u001b[1;33m-\u001b[0m \u001b[0my\u001b[0m \u001b[1;33m+\u001b[0m \u001b[0mresidual\u001b[0m\u001b[1;33m)\u001b[0m\u001b[1;33m)\u001b[0m\u001b[1;33m\u001b[0m\u001b[0m\n\u001b[0m\u001b[0;32m    418\u001b[0m \u001b[1;33m\u001b[0m\u001b[0m\n\u001b[0;32m    419\u001b[0m         \u001b[1;32mif\u001b[0m \u001b[0mdenominator\u001b[0m \u001b[1;33m==\u001b[0m \u001b[1;36m0.0\u001b[0m\u001b[1;33m:\u001b[0m\u001b[1;33m\u001b[0m\u001b[0m\n",
        "\u001b[1;32m/home/f/anaconda/lib/python2.7/site-packages/numpy/core/fromnumeric.pyc\u001b[0m in \u001b[0;36msum\u001b[1;34m(a, axis, dtype, out, keepdims)\u001b[0m\n\u001b[0;32m   1513\u001b[0m     \u001b[1;32melse\u001b[0m\u001b[1;33m:\u001b[0m\u001b[1;33m\u001b[0m\u001b[0m\n\u001b[0;32m   1514\u001b[0m         return _methods._sum(a, axis=axis, dtype=dtype,\n\u001b[1;32m-> 1515\u001b[1;33m                             out=out, keepdims=keepdims)\n\u001b[0m\u001b[0;32m   1516\u001b[0m \u001b[1;33m\u001b[0m\u001b[0m\n\u001b[0;32m   1517\u001b[0m \u001b[1;32mdef\u001b[0m \u001b[0mproduct\u001b[0m \u001b[1;33m(\u001b[0m\u001b[0ma\u001b[0m\u001b[1;33m,\u001b[0m \u001b[0maxis\u001b[0m\u001b[1;33m=\u001b[0m\u001b[0mNone\u001b[0m\u001b[1;33m,\u001b[0m \u001b[0mdtype\u001b[0m\u001b[1;33m=\u001b[0m\u001b[0mNone\u001b[0m\u001b[1;33m,\u001b[0m \u001b[0mout\u001b[0m\u001b[1;33m=\u001b[0m\u001b[0mNone\u001b[0m\u001b[1;33m,\u001b[0m \u001b[0mkeepdims\u001b[0m\u001b[1;33m=\u001b[0m\u001b[0mFalse\u001b[0m\u001b[1;33m)\u001b[0m\u001b[1;33m:\u001b[0m\u001b[1;33m\u001b[0m\u001b[0m\n",
        "\u001b[1;32m/home/f/anaconda/lib/python2.7/site-packages/numpy/core/_methods.pyc\u001b[0m in \u001b[0;36m_sum\u001b[1;34m(a, axis, dtype, out, keepdims)\u001b[0m\n\u001b[0;32m     16\u001b[0m \u001b[1;32mdef\u001b[0m \u001b[0m_sum\u001b[0m\u001b[1;33m(\u001b[0m\u001b[0ma\u001b[0m\u001b[1;33m,\u001b[0m \u001b[0maxis\u001b[0m\u001b[1;33m=\u001b[0m\u001b[0mNone\u001b[0m\u001b[1;33m,\u001b[0m \u001b[0mdtype\u001b[0m\u001b[1;33m=\u001b[0m\u001b[0mNone\u001b[0m\u001b[1;33m,\u001b[0m \u001b[0mout\u001b[0m\u001b[1;33m=\u001b[0m\u001b[0mNone\u001b[0m\u001b[1;33m,\u001b[0m \u001b[0mkeepdims\u001b[0m\u001b[1;33m=\u001b[0m\u001b[0mFalse\u001b[0m\u001b[1;33m)\u001b[0m\u001b[1;33m:\u001b[0m\u001b[1;33m\u001b[0m\u001b[0m\n\u001b[0;32m     17\u001b[0m     return um.add.reduce(a, axis=axis, dtype=dtype,\n\u001b[1;32m---> 18\u001b[1;33m                             out=out, keepdims=keepdims)\n\u001b[0m\u001b[0;32m     19\u001b[0m \u001b[1;33m\u001b[0m\u001b[0m\n\u001b[0;32m     20\u001b[0m \u001b[1;32mdef\u001b[0m \u001b[0m_prod\u001b[0m\u001b[1;33m(\u001b[0m\u001b[0ma\u001b[0m\u001b[1;33m,\u001b[0m \u001b[0maxis\u001b[0m\u001b[1;33m=\u001b[0m\u001b[0mNone\u001b[0m\u001b[1;33m,\u001b[0m \u001b[0mdtype\u001b[0m\u001b[1;33m=\u001b[0m\u001b[0mNone\u001b[0m\u001b[1;33m,\u001b[0m \u001b[0mout\u001b[0m\u001b[1;33m=\u001b[0m\u001b[0mNone\u001b[0m\u001b[1;33m,\u001b[0m \u001b[0mkeepdims\u001b[0m\u001b[1;33m=\u001b[0m\u001b[0mFalse\u001b[0m\u001b[1;33m)\u001b[0m\u001b[1;33m:\u001b[0m\u001b[1;33m\u001b[0m\u001b[0m\n",
        "\u001b[1;31mKeyboardInterrupt\u001b[0m: "
       ]
      },
      {
       "output_type": "stream",
       "stream": "stdout",
       "text": [
        "\n"
       ]
      }
     ],
     "prompt_number": 55
    },
    {
     "cell_type": "code",
     "collapsed": false,
     "input": [
      "def __init__(self, est):\n",
      "   self.est = est\n",
      "def predict(self, X):\n",
      "    return self.est.predict_proba(X)[:, 1]\n",
      "def fit(self, X, y):\n",
      "    self.est.fit(X, y)\n",
      "    \n",
      "Xtrunc=X\n",
      "fahad_x_test_trunc=X_test\n",
      "\n",
      "#clf_init = LogisticRegression();\n",
      "#clf_init.fit(Xtrunc, y);\n",
      "clf = RandomForestClassifier(verbose=1)#n_estimators=1000, min_samples_split=10, random_state=0)\n",
      "#clf=sk.ensemble.GradientBoostingClassifier(n_estimators=30,\n",
      "#                                           learning_rate=0.1,\n",
      "#                                           max_depth=5,\n",
      "#                                           verbose=1,\n",
      "#                                           min_samples_leaf=6 ,\n",
      "#                                           random_state=50,\n",
      "#                                           loss='deviance',\n",
      "                                           #max_features=10\n",
      "                                           #init=clf_init\n",
      "                                           )\n",
      "#kk = SelectKBest(score_func=scoreFuncs[1], k=70)\n",
      "\n",
      "#Xtrunc= kk.fit_transform(X,y)\n",
      "#fahad_x_test_trunc=kk.transform(fahad_x_test)\n",
      "\n",
      "\n",
      "\n",
      "\n",
      "clf.fit(Xtrunc,y)\n",
      "\n",
      "scores = cross_val_score(clf, Xtrunc, y)\n",
      "                            \n",
      "\n",
      "#ypred = clf.predict(fahad_x_test_trunc)\n",
      "\n",
      "#outputfile = \"mypredictions_classification_random_forrest_lastcall.csv\"  # feel free to change this or take it as an argument\n",
      "#util.write_predictions(ypred, test_ids, outputfile)\n",
      "scores.mean()"
     ],
     "language": "python",
     "metadata": {},
     "outputs": [
      {
       "ename": "IndentationError",
       "evalue": "unexpected indent (<ipython-input-392-3eab5cb62d78>, line 23)",
       "output_type": "pyerr",
       "traceback": [
        "\u001b[1;36m  File \u001b[1;32m\"<ipython-input-392-3eab5cb62d78>\"\u001b[1;36m, line \u001b[1;32m23\u001b[0m\n\u001b[1;33m    )\u001b[0m\n\u001b[1;37m    ^\u001b[0m\n\u001b[1;31mIndentationError\u001b[0m\u001b[1;31m:\u001b[0m unexpected indent\n"
       ]
      }
     ],
     "prompt_number": 392
    },
    {
     "cell_type": "code",
     "collapsed": false,
     "input": [
      "#Xtrunc=X_train.todense()\n",
      "#fahad_x_test_trunc=X_test.todensescoreFuncs = [chi2, f_classif]\n",
      "#kk = SelectKBest(score_func=scoreFuncs[0], k=5700)\n",
      "#Xtrunc= kk.fit_transform(Xtrunc,y)\n",
      "#Xtrunc=Xtrunc.todense()\n",
      "#fahad_x_test_trunc=kk.transform(fahad_x_test)\n",
      "\n",
      "#clf_init = LogisticRegression();\n",
      "#clf_init.fit(Xtrunc, y);\n",
      "#clf = RandomForestClassifier(n_estimators=100, min_samples_split=10, random_state=0)\n",
      "\n",
      "Xtrunc=X_train.todense()\n",
      "fahad_x_test_trunc=X_test\n",
      "\n",
      "#clf_init = LogisticRegression();\n",
      "#clf_init.fit(Xtrunc, y);\n",
      "#clf = RandomForestClassifier(max_features=100)#n_estimators=100, min_samples_split=10, random_state=0)\n",
      "clf=sk.ensemble.GradientBoostingClassifier(verbose=1)                                  \n",
      "#                                           #learning_rate=0.1,\n",
      "#                                           #max_depth=5,\n",
      "#                                           verbose=1,\n",
      "#                                           max_features=75,\n",
      "                                           #subsample=0.8,\n",
      "#                                           )\n",
      "\n",
      "\n",
      "#clf = ExtraTreesClassifier(n_estimators=200, max_depth=None,min_samples_split=1, random_state=0,max_features=12,bootstrap=False)\n",
      "                                           \n",
      "                                           #init=clf_init\n",
      "                                           \n",
      "#kk = SelectKBest(score_func=scoreFuncs[1], k=70)\n",
      "\n",
      "#Xtrunc= kk.fit_transform(X,y)\n",
      "#fahad_x_test_trunc=kk.transform(fahad_x_test)\n",
      "\n",
      "\n",
      "\n",
      "\n",
      "clf.fit(Xtrunc,y)\n",
      "\n",
      "scores = cross_val_score(clf, Xtrunc, y)\n",
      "                            \n",
      "\n",
      "#ypred = clf.predict(fahad_x_test_trunc)\n",
      "\n",
      "#outputfile = \"mypredictions_classification_random_forrest_lastcall.csv\"  # feel free to change this or take it as an argument\n",
      "#util.write_predictions(ypred, test_ids, outputfile)\n",
      "###scores.mean()\n",
      "\n",
      "\n",
      "#kk = SelectKBest(score_func=scoreFuncs[1], k=70)\n",
      "\n",
      "#Xtrunc= kk.fit_transform(X,y)\n",
      "#fahad_x_test_trunc=kk.transform(fahad_x_test)\n",
      "\n",
      "\n",
      "\n",
      "###\n",
      "#clf.fit(Xtrunc,y)\n",
      "\n",
      "#scores = cross_val_score(clf, Xtrunc, y)\n",
      "   ###                         \n",
      "\n",
      "#ypred = clf.predict(fahad_x_test_trunc)\n",
      "\n",
      "#outputfile = \"mypredictions_classification_random_forrest_lastcall.csv\"  # feel free to change this or take it as an argument\n",
      "#util.write_predictions(ypred, test_ids, outputfile)\n",
      "scores.mean()"
     ],
     "language": "python",
     "metadata": {},
     "outputs": [
      {
       "output_type": "stream",
       "stream": "stdout",
       "text": [
        "      Iter       Train Loss   Remaining Time \n",
        "         1        5201.5684           67.52m"
       ]
      },
      {
       "output_type": "stream",
       "stream": "stdout",
       "text": [
        "\n",
        "         2        4253.8132           67.06m"
       ]
      },
      {
       "output_type": "stream",
       "stream": "stdout",
       "text": [
        "\n",
        "         3        3624.6008           66.56m"
       ]
      },
      {
       "output_type": "stream",
       "stream": "stdout",
       "text": [
        "\n",
        "         4        3153.8978           65.91m"
       ]
      },
      {
       "output_type": "stream",
       "stream": "stdout",
       "text": [
        "\n",
        "         5        2777.7336           65.14m"
       ]
      },
      {
       "output_type": "stream",
       "stream": "stdout",
       "text": [
        "\n",
        "         6        2479.8590           64.50m"
       ]
      },
      {
       "output_type": "stream",
       "stream": "stdout",
       "text": [
        "\n",
        "         7        2234.5457           63.84m"
       ]
      },
      {
       "output_type": "stream",
       "stream": "stdout",
       "text": [
        "\n",
        "         8        2026.6165           62.99m"
       ]
      },
      {
       "output_type": "stream",
       "stream": "stdout",
       "text": [
        "\n",
        "         9        1856.7844           62.31m"
       ]
      },
      {
       "output_type": "stream",
       "stream": "stdout",
       "text": [
        "\n",
        "        10        1709.3668           61.57m"
       ]
      },
      {
       "output_type": "stream",
       "stream": "stdout",
       "text": [
        "\n",
        "        20        1035.1039           54.46m"
       ]
      },
      {
       "output_type": "stream",
       "stream": "stdout",
       "text": [
        "\n",
        "        30         821.8816           47.67m"
       ]
      },
      {
       "output_type": "stream",
       "stream": "stdout",
       "text": [
        "\n",
        "        40         701.7961           40.87m"
       ]
      },
      {
       "output_type": "stream",
       "stream": "stdout",
       "text": [
        "\n",
        "        50         610.1366           34.06m"
       ]
      },
      {
       "output_type": "stream",
       "stream": "stdout",
       "text": [
        "\n",
        "        60         547.4000           27.26m"
       ]
      },
      {
       "output_type": "stream",
       "stream": "stdout",
       "text": [
        "\n",
        "        70         502.0214           20.46m"
       ]
      },
      {
       "output_type": "stream",
       "stream": "stdout",
       "text": [
        "\n",
        "        80         470.1379           13.65m"
       ]
      },
      {
       "output_type": "stream",
       "stream": "stdout",
       "text": [
        "\n",
        "        90         442.4289            6.82m"
       ]
      },
      {
       "output_type": "stream",
       "stream": "stdout",
       "text": [
        "\n",
        "       100         412.3843            0.00s"
       ]
      },
      {
       "output_type": "stream",
       "stream": "stdout",
       "text": [
        "\n",
        "      Iter       Train Loss   Remaining Time "
       ]
      },
      {
       "output_type": "stream",
       "stream": "stdout",
       "text": [
        "\n",
        "         1        3432.4249           38.58m"
       ]
      },
      {
       "output_type": "stream",
       "stream": "stdout",
       "text": [
        "\n",
        "         2        2802.4588           38.20m"
       ]
      },
      {
       "output_type": "stream",
       "stream": "stdout",
       "text": [
        "\n",
        "         3        2369.0438           37.82m"
       ]
      },
      {
       "output_type": "stream",
       "stream": "stdout",
       "text": [
        "\n",
        "         4        2046.0833           37.40m"
       ]
      },
      {
       "output_type": "stream",
       "stream": "stdout",
       "text": [
        "\n",
        "         5        1779.6049           36.98m"
       ]
      },
      {
       "output_type": "stream",
       "stream": "stdout",
       "text": [
        "\n",
        "         6        1577.4481           36.59m"
       ]
      },
      {
       "output_type": "stream",
       "stream": "stdout",
       "text": [
        "\n",
        "         7        1407.6543           36.18m"
       ]
      },
      {
       "output_type": "stream",
       "stream": "stdout",
       "text": [
        "\n",
        "         8        1267.7102           35.76m"
       ]
      },
      {
       "output_type": "stream",
       "stream": "stdout",
       "text": [
        "\n",
        "         9        1151.6889           35.35m"
       ]
      },
      {
       "output_type": "stream",
       "stream": "stdout",
       "text": [
        "\n",
        "        10        1055.1888           34.93m"
       ]
      },
      {
       "output_type": "stream",
       "stream": "stdout",
       "text": [
        "\n",
        "        20         596.4018           31.10m"
       ]
      },
      {
       "output_type": "stream",
       "stream": "stdout",
       "text": [
        "\n",
        "        30         453.1737           27.31m"
       ]
      },
      {
       "output_type": "stream",
       "stream": "stdout",
       "text": [
        "\n",
        "        40         374.5851           23.47m"
       ]
      },
      {
       "output_type": "stream",
       "stream": "stdout",
       "text": [
        "\n",
        "        50         311.5384           19.59m"
       ]
      },
      {
       "output_type": "stream",
       "stream": "stdout",
       "text": [
        "\n",
        "        60         272.0211           15.68m"
       ]
      },
      {
       "output_type": "stream",
       "stream": "stdout",
       "text": [
        "\n",
        "        70         248.6748           11.77m"
       ]
      },
      {
       "output_type": "stream",
       "stream": "stdout",
       "text": [
        "\n",
        "        80         224.5539            7.85m"
       ]
      },
      {
       "output_type": "stream",
       "stream": "stdout",
       "text": [
        "\n",
        "        90         208.0182            3.93m"
       ]
      },
      {
       "output_type": "stream",
       "stream": "stdout",
       "text": [
        "\n",
        "       100         191.7065            0.00s"
       ]
      },
      {
       "output_type": "stream",
       "stream": "stdout",
       "text": [
        "\n",
        "      Iter       Train Loss   Remaining Time "
       ]
      },
      {
       "output_type": "stream",
       "stream": "stdout",
       "text": [
        "\n",
        "         1        3457.3191           37.77m"
       ]
      },
      {
       "output_type": "stream",
       "stream": "stdout",
       "text": [
        "\n",
        "         2        2811.5694           37.39m"
       ]
      },
      {
       "output_type": "stream",
       "stream": "stdout",
       "text": [
        "\n",
        "         3        2386.7984           37.08m"
       ]
      },
      {
       "output_type": "stream",
       "stream": "stdout",
       "text": [
        "\n",
        "         4        2068.5464           36.74m"
       ]
      },
      {
       "output_type": "stream",
       "stream": "stdout",
       "text": [
        "\n",
        "         5        1817.5294           36.35m"
       ]
      },
      {
       "output_type": "stream",
       "stream": "stdout",
       "text": [
        "\n",
        "         6        1620.7964           35.99m"
       ]
      },
      {
       "output_type": "stream",
       "stream": "stdout",
       "text": [
        "\n",
        "         7        1452.4455           35.53m"
       ]
      },
      {
       "output_type": "stream",
       "stream": "stdout",
       "text": [
        "\n",
        "         8        1311.4815           35.11m"
       ]
      },
      {
       "output_type": "stream",
       "stream": "stdout",
       "text": [
        "\n",
        "         9        1198.1868           34.71m"
       ]
      },
      {
       "output_type": "stream",
       "stream": "stdout",
       "text": [
        "\n",
        "        10        1102.5473           34.31m"
       ]
      },
      {
       "output_type": "stream",
       "stream": "stdout",
       "text": [
        "\n",
        "        20         637.7743           30.52m"
       ]
      },
      {
       "output_type": "stream",
       "stream": "stdout",
       "text": [
        "\n",
        "        30         474.9401           26.78m"
       ]
      },
      {
       "output_type": "stream",
       "stream": "stdout",
       "text": [
        "\n",
        "        40         391.8646           23.00m"
       ]
      },
      {
       "output_type": "stream",
       "stream": "stdout",
       "text": [
        "\n",
        "        50         341.8730           19.20m"
       ]
      },
      {
       "output_type": "stream",
       "stream": "stdout",
       "text": [
        "\n",
        "        60         308.0505           15.38m"
       ]
      },
      {
       "output_type": "stream",
       "stream": "stdout",
       "text": [
        "\n",
        "        70         275.6503           11.53m"
       ]
      },
      {
       "output_type": "stream",
       "stream": "stdout",
       "text": [
        "\n",
        "        80         253.1745            7.69m"
       ]
      },
      {
       "output_type": "stream",
       "stream": "stdout",
       "text": [
        "\n",
        "        90         230.7064            3.85m"
       ]
      },
      {
       "output_type": "stream",
       "stream": "stdout",
       "text": [
        "\n",
        "       100         213.2881            0.00s"
       ]
      },
      {
       "output_type": "stream",
       "stream": "stdout",
       "text": [
        "\n",
        "      Iter       Train Loss   Remaining Time "
       ]
      },
      {
       "output_type": "stream",
       "stream": "stdout",
       "text": [
        "\n",
        "         1        3455.3814           37.85m"
       ]
      },
      {
       "output_type": "stream",
       "stream": "stdout",
       "text": [
        "\n",
        "         2        2833.8158           37.39m"
       ]
      },
      {
       "output_type": "stream",
       "stream": "stdout",
       "text": [
        "\n",
        "         3        2402.2662           37.01m"
       ]
      },
      {
       "output_type": "stream",
       "stream": "stdout",
       "text": [
        "\n",
        "         4        2082.0851           36.63m"
       ]
      },
      {
       "output_type": "stream",
       "stream": "stdout",
       "text": [
        "\n",
        "         5        1835.6485           36.27m"
       ]
      },
      {
       "output_type": "stream",
       "stream": "stdout",
       "text": [
        "\n",
        "         6        1637.6749           35.89m"
       ]
      },
      {
       "output_type": "stream",
       "stream": "stdout",
       "text": [
        "\n",
        "         7        1474.6140           35.45m"
       ]
      },
      {
       "output_type": "stream",
       "stream": "stdout",
       "text": [
        "\n",
        "         8        1333.8181           35.04m"
       ]
      },
      {
       "output_type": "stream",
       "stream": "stdout",
       "text": [
        "\n",
        "         9        1222.9982           34.64m"
       ]
      },
      {
       "output_type": "stream",
       "stream": "stdout",
       "text": [
        "\n",
        "        10        1126.1407           34.24m"
       ]
      },
      {
       "output_type": "stream",
       "stream": "stdout",
       "text": [
        "\n",
        "        20         673.1190           30.43m"
       ]
      },
      {
       "output_type": "stream",
       "stream": "stdout",
       "text": [
        "\n",
        "        30         520.5979           76.73m"
       ]
      },
      {
       "output_type": "stream",
       "stream": "stdout",
       "text": [
        "\n",
        "        40         411.1778           55.18m"
       ]
      },
      {
       "output_type": "stream",
       "stream": "stdout",
       "text": [
        "\n",
        "        50         346.2163           40.67m"
       ]
      },
      {
       "output_type": "stream",
       "stream": "stdout",
       "text": [
        "\n",
        "        60         309.2364           29.71m"
       ]
      },
      {
       "output_type": "stream",
       "stream": "stdout",
       "text": [
        "\n",
        "        70         281.4758           20.76m"
       ]
      },
      {
       "output_type": "stream",
       "stream": "stdout",
       "text": [
        "\n",
        "        80         257.9130           13.08m"
       ]
      },
      {
       "output_type": "stream",
       "stream": "stdout",
       "text": [
        "\n",
        "        90         238.6899            6.25m"
       ]
      },
      {
       "output_type": "stream",
       "stream": "stdout",
       "text": [
        "\n",
        "       100         223.3646            0.00s"
       ]
      },
      {
       "output_type": "stream",
       "stream": "stdout",
       "text": [
        "\n"
       ]
      },
      {
       "metadata": {},
       "output_type": "pyout",
       "prompt_number": 505,
       "text": [
        "0.88107811217872367"
       ]
      }
     ],
     "prompt_number": 505
    },
    {
     "cell_type": "code",
     "collapsed": false,
     "input": [
      "clf.fit(Xtrunc,y)\n",
      "\n",
      "scores = cross_val_score(clf, Xtrunc, y)\n",
      "scores.mean()"
     ],
     "language": "python",
     "metadata": {},
     "outputs": [
      {
       "ename": "KeyboardInterrupt",
       "evalue": "",
       "output_type": "pyerr",
       "traceback": [
        "\u001b[1;31m---------------------------------------------------------------------------\u001b[0m\n\u001b[1;31mKeyboardInterrupt\u001b[0m                         Traceback (most recent call last)",
        "\u001b[1;32m<ipython-input-509-b61b053e02b1>\u001b[0m in \u001b[0;36m<module>\u001b[1;34m()\u001b[0m\n\u001b[1;32m----> 1\u001b[1;33m \u001b[0mclf\u001b[0m\u001b[1;33m.\u001b[0m\u001b[0mfit\u001b[0m\u001b[1;33m(\u001b[0m\u001b[0mXtrunc\u001b[0m\u001b[1;33m,\u001b[0m\u001b[0my\u001b[0m\u001b[1;33m)\u001b[0m\u001b[1;33m\u001b[0m\u001b[0m\n\u001b[0m\u001b[0;32m      2\u001b[0m \u001b[1;33m\u001b[0m\u001b[0m\n\u001b[0;32m      3\u001b[0m \u001b[0mscores\u001b[0m \u001b[1;33m=\u001b[0m \u001b[0mcross_val_score\u001b[0m\u001b[1;33m(\u001b[0m\u001b[0mclf\u001b[0m\u001b[1;33m,\u001b[0m \u001b[0mXtrunc\u001b[0m\u001b[1;33m,\u001b[0m \u001b[0my\u001b[0m\u001b[1;33m)\u001b[0m\u001b[1;33m\u001b[0m\u001b[0m\n\u001b[0;32m      4\u001b[0m \u001b[0mscores\u001b[0m\u001b[1;33m.\u001b[0m\u001b[0mmean\u001b[0m\u001b[1;33m(\u001b[0m\u001b[1;33m)\u001b[0m\u001b[1;33m\u001b[0m\u001b[0m\n",
        "\u001b[1;32m/home/f/anaconda/lib/python2.7/site-packages/sklearn/ensemble/gradient_boosting.pyc\u001b[0m in \u001b[0;36mfit\u001b[1;34m(self, X, y)\u001b[0m\n\u001b[0;32m    888\u001b[0m         \u001b[0mself\u001b[0m\u001b[1;33m.\u001b[0m\u001b[0mn_classes_\u001b[0m \u001b[1;33m=\u001b[0m \u001b[0mlen\u001b[0m\u001b[1;33m(\u001b[0m\u001b[0mself\u001b[0m\u001b[1;33m.\u001b[0m\u001b[0mclasses_\u001b[0m\u001b[1;33m)\u001b[0m\u001b[1;33m\u001b[0m\u001b[0m\n\u001b[0;32m    889\u001b[0m \u001b[1;33m\u001b[0m\u001b[0m\n\u001b[1;32m--> 890\u001b[1;33m         \u001b[1;32mreturn\u001b[0m \u001b[0msuper\u001b[0m\u001b[1;33m(\u001b[0m\u001b[0mGradientBoostingClassifier\u001b[0m\u001b[1;33m,\u001b[0m \u001b[0mself\u001b[0m\u001b[1;33m)\u001b[0m\u001b[1;33m.\u001b[0m\u001b[0mfit\u001b[0m\u001b[1;33m(\u001b[0m\u001b[0mX\u001b[0m\u001b[1;33m,\u001b[0m \u001b[0my\u001b[0m\u001b[1;33m)\u001b[0m\u001b[1;33m\u001b[0m\u001b[0m\n\u001b[0m\u001b[0;32m    891\u001b[0m \u001b[1;33m\u001b[0m\u001b[0m\n\u001b[0;32m    892\u001b[0m     \u001b[1;32mdef\u001b[0m \u001b[0m_score_to_proba\u001b[0m\u001b[1;33m(\u001b[0m\u001b[0mself\u001b[0m\u001b[1;33m,\u001b[0m \u001b[0mscore\u001b[0m\u001b[1;33m)\u001b[0m\u001b[1;33m:\u001b[0m\u001b[1;33m\u001b[0m\u001b[0m\n",
        "\u001b[1;32m/home/f/anaconda/lib/python2.7/site-packages/sklearn/ensemble/gradient_boosting.pyc\u001b[0m in \u001b[0;36mfit\u001b[1;34m(self, X, y)\u001b[0m\n\u001b[0;32m    611\u001b[0m             \u001b[1;31m# fit next stage of trees\u001b[0m\u001b[1;33m\u001b[0m\u001b[1;33m\u001b[0m\u001b[0m\n\u001b[0;32m    612\u001b[0m             y_pred = self._fit_stage(i, X, y, y_pred, sample_mask,\n\u001b[1;32m--> 613\u001b[1;33m                                      random_state)\n\u001b[0m\u001b[0;32m    614\u001b[0m \u001b[1;33m\u001b[0m\u001b[0m\n\u001b[0;32m    615\u001b[0m             \u001b[1;31m# track deviance (= loss)\u001b[0m\u001b[1;33m\u001b[0m\u001b[1;33m\u001b[0m\u001b[0m\n",
        "\u001b[1;32m/home/f/anaconda/lib/python2.7/site-packages/sklearn/ensemble/gradient_boosting.pyc\u001b[0m in \u001b[0;36m_fit_stage\u001b[1;34m(self, i, X, y, y_pred, sample_mask, random_state)\u001b[0m\n\u001b[0;32m    480\u001b[0m \u001b[1;33m\u001b[0m\u001b[0m\n\u001b[0;32m    481\u001b[0m             tree.fit(X, residual,\n\u001b[1;32m--> 482\u001b[1;33m                      sample_weight=sample_weight, check_input=False)\n\u001b[0m\u001b[0;32m    483\u001b[0m \u001b[1;33m\u001b[0m\u001b[0m\n\u001b[0;32m    484\u001b[0m             \u001b[1;31m# update tree leaves\u001b[0m\u001b[1;33m\u001b[0m\u001b[1;33m\u001b[0m\u001b[0m\n",
        "\u001b[1;32m/home/f/anaconda/lib/python2.7/site-packages/sklearn/tree/tree.pyc\u001b[0m in \u001b[0;36mfit\u001b[1;34m(self, X, y, sample_mask, X_argsorted, check_input, sample_weight)\u001b[0m\n\u001b[0;32m    243\u001b[0m                           random_state)\n\u001b[0;32m    244\u001b[0m \u001b[1;33m\u001b[0m\u001b[0m\n\u001b[1;32m--> 245\u001b[1;33m         \u001b[0mself\u001b[0m\u001b[1;33m.\u001b[0m\u001b[0mtree_\u001b[0m\u001b[1;33m.\u001b[0m\u001b[0mbuild\u001b[0m\u001b[1;33m(\u001b[0m\u001b[0mX\u001b[0m\u001b[1;33m,\u001b[0m \u001b[0my\u001b[0m\u001b[1;33m,\u001b[0m \u001b[0msample_weight\u001b[0m\u001b[1;33m=\u001b[0m\u001b[0msample_weight\u001b[0m\u001b[1;33m)\u001b[0m\u001b[1;33m\u001b[0m\u001b[0m\n\u001b[0m\u001b[0;32m    246\u001b[0m \u001b[1;33m\u001b[0m\u001b[0m\n\u001b[0;32m    247\u001b[0m         \u001b[1;32mif\u001b[0m \u001b[0mself\u001b[0m\u001b[1;33m.\u001b[0m\u001b[0mn_outputs_\u001b[0m \u001b[1;33m==\u001b[0m \u001b[1;36m1\u001b[0m\u001b[1;33m:\u001b[0m\u001b[1;33m\u001b[0m\u001b[0m\n",
        "\u001b[1;31mKeyboardInterrupt\u001b[0m: "
       ]
      },
      {
       "output_type": "stream",
       "stream": "stdout",
       "text": [
        "      Iter       Train Loss   Remaining Time \n"
       ]
      }
     ],
     "prompt_number": 509
    },
    {
     "cell_type": "code",
     "collapsed": false,
     "input": [
      "#from sklearn.ensemble.partial_dependence import plot_partial_dependence\n",
      "#features = [0, 1, (0, 1)]\n",
      "#fig, axs = plot_partial_dependence(clf, X, features,label=0) \n",
      "plt.plot( kk.scores_,'*')\n"
     ],
     "language": "python",
     "metadata": {},
     "outputs": [
      {
       "metadata": {},
       "output_type": "pyout",
       "prompt_number": 482,
       "text": [
        "[<matplotlib.lines.Line2D at 0x1531aad0>]"
       ]
      },
      {
       "metadata": {},
       "output_type": "display_data",
       "png": "[encoded data removed]",
       "text": [
        "<matplotlib.figure.Figure at 0x24601150>"
       ]
      }
     ],
     "prompt_number": 482
    },
    {
     "cell_type": "code",
     "collapsed": false,
     "input": [
      "padding = np.arange(np.shape(Xtrunc)[1]) + 0.5\n",
      "plt.barh(padding, clf.feature_importances_, align='center')"
     ],
     "language": "python",
     "metadata": {},
     "outputs": [
      {
       "metadata": {},
       "output_type": "pyout",
       "prompt_number": 427,
       "text": [
        "<Container object of 102 artists>"
       ]
      },
      {
       "metadata": {},
       "output_type": "display_data",
       "png": "[encoded data removed]",
       "text": [
        "<matplotlib.figure.Figure at 0x15661650>"
       ]
      }
     ],
     "prompt_number": 427
    },
    {
     "cell_type": "code",
     "collapsed": false,
     "input": [
      "a=clf.feature_importances_\n",
      "np.argmax(a)\n",
      "a[96]\n",
      "global_feat_dict"
     ],
     "language": "python",
     "metadata": {},
     "outputs": [
      {
       "metadata": {},
       "output_type": "pyout",
       "prompt_number": 448,
       "text": [
        "{'accept_socket': 0,\n",
        " 'add_netjob': 1,\n",
        " 'bind_socket': 2,\n",
        " 'change_service_config': 3,\n",
        " 'check_for_debugger': 4,\n",
        " 'com_create_instance': 5,\n",
        " 'com_createole_object': 6,\n",
        " 'com_get_class_object': 7,\n",
        " 'connect': 8,\n",
        " 'connect_socket': 9,\n",
        " 'control_service': 10,\n",
        " 'copy_file': 11,\n",
        " 'create_directory': 12,\n",
        " 'create_file': 13,\n",
        " 'create_interface': 14,\n",
        " 'create_key': 15,\n",
        " 'create_mailslot': 16,\n",
        " 'create_mutex': 17,\n",
        " 'create_namedpipe': 18,\n",
        " 'create_open_file': 19,\n",
        " 'create_process': 20,\n",
        " 'create_process_as_user': 21,\n",
        " 'create_process_nt': 22,\n",
        " 'create_service': 23,\n",
        " 'create_socket': 24,\n",
        " 'create_thread': 25,\n",
        " 'create_thread_remote': 26,\n",
        " 'create_window': 27,\n",
        " 'delete_file': 28,\n",
        " 'delete_key': 29,\n",
        " 'delete_service': 30,\n",
        " 'delete_share': 31,\n",
        " 'delete_value': 32,\n",
        " 'destroy_window': 33,\n",
        " 'download_file': 34,\n",
        " 'download_file_to_cache': 35,\n",
        " 'dump_line': 36,\n",
        " 'enum_handles': 37,\n",
        " 'enum_items': 38,\n",
        " 'enum_keys': 39,\n",
        " 'enum_modules': 40,\n",
        " 'enum_processes': 41,\n",
        " 'enum_services': 42,\n",
        " 'enum_share': 43,\n",
        " 'enum_subtypes': 44,\n",
        " 'enum_types': 45,\n",
        " 'enum_values': 46,\n",
        " 'enum_window': 47,\n",
        " 'exit_windows': 48,\n",
        " 'find_file': 49,\n",
        " 'find_window': 50,\n",
        " 'get_computer_name': 51,\n",
        " 'get_file_attributes': 52,\n",
        " 'get_host_by_addr': 53,\n",
        " 'get_host_by_name': 54,\n",
        " 'get_system_directory': 55,\n",
        " 'get_system_time': 56,\n",
        " 'get_userinfo': 57,\n",
        " 'get_username': 58,\n",
        " 'get_windows_directory': 59,\n",
        " 'impersonate_user': 60,\n",
        " 'kill_process': 61,\n",
        " 'listen_socket': 62,\n",
        " 'load_dll': 63,\n",
        " 'load_driver': 64,\n",
        " 'load_image': 65,\n",
        " 'logon_as_user': 66,\n",
        " 'message': 67,\n",
        " 'move_file': 68,\n",
        " 'open_file': 69,\n",
        " 'open_key': 70,\n",
        " 'open_mutex': 71,\n",
        " 'open_process': 72,\n",
        " 'open_scmanager': 73,\n",
        " 'open_service': 74,\n",
        " 'open_url': 75,\n",
        " 'process': 76,\n",
        " 'query_value': 77,\n",
        " 'read_section': 78,\n",
        " 'read_value': 79,\n",
        " 'recv_socket': 80,\n",
        " 'remove_directory': 81,\n",
        " 'revert_to_self': 82,\n",
        " 'send_socket': 83,\n",
        " 'set_file_attributes': 84,\n",
        " 'set_file_time': 85,\n",
        " 'set_system_time': 86,\n",
        " 'set_thread_context': 87,\n",
        " 'set_value': 88,\n",
        " 'set_windows_hook': 89,\n",
        " 'show_window': 90,\n",
        " 'sleep': 91,\n",
        " 'start_service': 92,\n",
        " 'thread': 93,\n",
        " 'trimmed_bytes': 94,\n",
        " 'unload_driver': 95,\n",
        " 'vm_allocate': 96,\n",
        " 'vm_mapviewofsection': 97,\n",
        " 'vm_protect': 98,\n",
        " 'vm_read': 99,\n",
        " 'vm_write': 100,\n",
        " 'write_value': 101}"
       ]
      }
     ],
     "prompt_number": 448
    },
    {
     "cell_type": "code",
     "collapsed": false,
     "input": [
      "padding = np.arange(np.shape(Xtrunc)[1]) + 0.5\n",
      "plt.barh(padding, clf.feature_importances_, align='center')"
     ],
     "language": "python",
     "metadata": {},
     "outputs": [
      {
       "metadata": {},
       "output_type": "pyout",
       "prompt_number": 384,
       "text": [
        "<Container object of 1855 artists>"
       ]
      },
      {
       "metadata": {},
       "output_type": "display_data",
       "png": "[encoded data removed]",
       "text": [
        "<matplotlib.figure.Figure at 0x46bb110>"
       ]
      }
     ],
     "prompt_number": 384
    },
    {
     "cell_type": "code",
     "collapsed": false,
     "input": [
      "padding = np.arange(np.shape(Xtrunc)[1]) + 0.5\n",
      "plt.barh(padding, clf.feature_importances_, align='center')"
     ],
     "language": "python",
     "metadata": {},
     "outputs": [
      {
       "metadata": {},
       "output_type": "pyout",
       "prompt_number": 389,
       "text": [
        "<Container object of 4007 artists>"
       ]
      },
      {
       "metadata": {},
       "output_type": "display_data",
       "png": "[encoded data removed]",
       "text": [
        "<matplotlib.figure.Figure at 0xc579ad0>"
       ]
      }
     ],
     "prompt_number": 389
    },
    {
     "cell_type": "code",
     "collapsed": false,
     "input": [
      "padding = np.arange(np.shape(Xtrunc)[1]) + 0.5\n",
      "plt.barh(padding, clf.feature_importances_, align='center')"
     ],
     "language": "python",
     "metadata": {},
     "outputs": [
      {
       "metadata": {},
       "output_type": "pyout",
       "prompt_number": 397,
       "text": [
        "<Container object of 5758 artists>"
       ]
      },
      {
       "metadata": {},
       "output_type": "display_data",
       "png": "[encoded data removed]",
       "text": [
        "<matplotlib.figure.Figure at 0xe198390>"
       ]
      }
     ],
     "prompt_number": 397
    },
    {
     "cell_type": "code",
     "collapsed": false,
     "input": [
      "ypred = clf.predict(X_test.todense())\n",
      "\n",
      "outputfile = \"mypredictions_classification_random_boosting_more_features.csv\"  # feel free to change this or take it as an argument\n",
      "util.write_predictions(ypred, test_ids, outputfile)\n"
     ],
     "language": "python",
     "metadata": {},
     "outputs": [],
     "prompt_number": 506
    },
    {
     "cell_type": "code",
     "collapsed": false,
     "input": [
      "np.shape(X)\n",
      "0.8762180803394175\n"
     ],
     "language": "python",
     "metadata": {},
     "outputs": [
      {
       "metadata": {},
       "output_type": "pyout",
       "prompt_number": 165,
       "text": [
        "0.8762180803394175"
       ]
      }
     ],
     "prompt_number": 165
    },
    {
     "cell_type": "code",
     "collapsed": false,
     "input": [
      "import pandas as pd\n",
      "best=pd.read_csv('mypredictions_classification_random_forrest_boosting1.csv',skiprows=1)\n",
      "best_opt=pd.read_csv('mypredictions_classification_random_boosting_more_features.csv',skiprows=1)\n"
     ],
     "language": "python",
     "metadata": {},
     "outputs": [],
     "prompt_number": 507
    },
    {
     "cell_type": "code",
     "collapsed": false,
     "input": [
      "a=best.icol(1)\n",
      "b=best_opt.icol(1)\n",
      "plt.plot(a,b,'.')"
     ],
     "language": "python",
     "metadata": {},
     "outputs": [
      {
       "metadata": {},
       "output_type": "pyout",
       "prompt_number": 508,
       "text": [
        "[<matplotlib.lines.Line2D at 0x26e7c750>]"
       ]
      },
      {
       "metadata": {},
       "output_type": "display_data",
       "png": "[encoded data removed]",
       "text": [
        "<matplotlib.figure.Figure at 0x26cf5e90>"
       ]
      }
     ],
     "prompt_number": 508
    },
    {
     "cell_type": "code",
     "collapsed": false,
     "input": [
      "np.shape(Xtrunc)"
     ],
     "language": "python",
     "metadata": {},
     "outputs": [
      {
       "metadata": {},
       "output_type": "pyout",
       "prompt_number": 292,
       "text": [
        "(3086, 133)"
       ]
      }
     ],
     "prompt_number": 292
    },
    {
     "cell_type": "code",
     "collapsed": false,
     "input": [
      "#scores = cross_val_score(clf, Xtrunc, y)\n",
      "                            \n",
      "\n",
      "ypred = clf.predict(fahad_x_test_trunc.todense())\n",
      "\n",
      "outputfile = \"mypredictions_classification_boosting_addedfeatures.csv\"  # feel free to change this or take it as an argument\n",
      "util.write_predictions(ypred, test_ids, outputfile)\n",
      "#scores.mean()"
     ],
     "language": "python",
     "metadata": {},
     "outputs": [],
     "prompt_number": 504
    },
    {
     "cell_type": "code",
     "collapsed": false,
     "input": [
      "import pylab as plt\n",
      "train_scores = clf.train_score_\n",
      "plt.plot(np.arange(train_scores.shape[0], train_scores), 'b-', label='train loss')"
     ],
     "language": "python",
     "metadata": {},
     "outputs": [
      {
       "ename": "TypeError",
       "evalue": "only length-1 arrays can be converted to Python scalars",
       "output_type": "pyerr",
       "traceback": [
        "\u001b[1;31m---------------------------------------------------------------------------\u001b[0m\n\u001b[1;31mTypeError\u001b[0m                                 Traceback (most recent call last)",
        "\u001b[1;32m<ipython-input-301-5243e266b017>\u001b[0m in \u001b[0;36m<module>\u001b[1;34m()\u001b[0m\n\u001b[0;32m      1\u001b[0m \u001b[1;32mimport\u001b[0m \u001b[0mpylab\u001b[0m \u001b[1;32mas\u001b[0m \u001b[0mplt\u001b[0m\u001b[1;33m\u001b[0m\u001b[0m\n\u001b[0;32m      2\u001b[0m \u001b[0mtrain_scores\u001b[0m \u001b[1;33m=\u001b[0m \u001b[0mclf\u001b[0m\u001b[1;33m.\u001b[0m\u001b[0mtrain_score_\u001b[0m\u001b[1;33m\u001b[0m\u001b[0m\n\u001b[1;32m----> 3\u001b[1;33m \u001b[0mplt\u001b[0m\u001b[1;33m.\u001b[0m\u001b[0mplot\u001b[0m\u001b[1;33m(\u001b[0m\u001b[0mnp\u001b[0m\u001b[1;33m.\u001b[0m\u001b[0marange\u001b[0m\u001b[1;33m(\u001b[0m\u001b[0mtrain_scores\u001b[0m\u001b[1;33m.\u001b[0m\u001b[0mshape\u001b[0m\u001b[1;33m[\u001b[0m\u001b[1;36m0\u001b[0m\u001b[1;33m]\u001b[0m\u001b[1;33m,\u001b[0m \u001b[0mtrain_scores\u001b[0m\u001b[1;33m)\u001b[0m\u001b[1;33m,\u001b[0m \u001b[1;34m'b-'\u001b[0m\u001b[1;33m,\u001b[0m \u001b[0mlabel\u001b[0m\u001b[1;33m=\u001b[0m\u001b[1;34m'train loss'\u001b[0m\u001b[1;33m)\u001b[0m\u001b[1;33m\u001b[0m\u001b[0m\n\u001b[0m",
        "\u001b[1;31mTypeError\u001b[0m: only length-1 arrays can be converted to Python scalars"
       ]
      }
     ],
     "prompt_number": 301
    },
    {
     "cell_type": "code",
     "collapsed": false,
     "input": [
      "X_test"
     ],
     "language": "python",
     "metadata": {},
     "outputs": [
      {
       "metadata": {},
       "output_type": "pyout",
       "prompt_number": 455,
       "text": [
        "<3724x5758 sparse matrix of type '<type 'numpy.int64'>'\n",
        "\twith 393471 stored elements in Compressed Sparse Row format>"
       ]
      }
     ],
     "prompt_number": 455
    }
   ],
   "metadata": {}
  }
 ]
}